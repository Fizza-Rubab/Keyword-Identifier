{
  "nbformat": 4,
  "nbformat_minor": 0,
  "metadata": {
    "colab": {
      "provenance": [],
      "toc_visible": true,
      "authorship_tag": "ABX9TyNBAqKUtg5zB6HKL8gAjRz1",
      "include_colab_link": true
    },
    "kernelspec": {
      "name": "python3",
      "display_name": "Python 3"
    },
    "language_info": {
      "name": "python"
    }
  },
  "cells": [
    {
      "cell_type": "markdown",
      "metadata": {
        "id": "view-in-github",
        "colab_type": "text"
      },
      "source": [
        "<a href=\"https://colab.research.google.com/github/Fizza-Rubab/Keyword-Identifier/blob/main/keyword_identifier.ipynb\" target=\"_parent\"><img src=\"https://colab.research.google.com/assets/colab-badge.svg\" alt=\"Open In Colab\"/></a>"
      ]
    },
    {
      "cell_type": "markdown",
      "source": [
        "# Keyword Identifier using TF-IDF Scores\n",
        "\n",
        "### Relevant Imports"
      ],
      "metadata": {
        "id": "VGTRzD739N4H"
      }
    },
    {
      "cell_type": "code",
      "execution_count": null,
      "metadata": {
        "id": "3VeAnjq_WUX8"
      },
      "outputs": [],
      "source": [
        "import math\n",
        "from textblob import TextBlob as tb\n",
        "import nltk\n"
      ]
    },
    {
      "cell_type": "code",
      "source": [
        "def tf(word, blob):\n",
        "    return blob.words.count(word) / len(blob.words)\n",
        "\n",
        "def n_containing(word, bloblist):\n",
        "    return sum(1 for blob in bloblist if word in blob.words)\n",
        "\n",
        "def idf(word, bloblist):\n",
        "    return math.log(len(bloblist) / (1 + n_containing(word, bloblist)))\n",
        "\n",
        "def tfidf(word, blob, bloblist):\n",
        "    return tf(word, blob) * idf(word, bloblist)"
      ],
      "metadata": {
        "id": "lhcNBqEEW903"
      },
      "execution_count": null,
      "outputs": []
    },
    {
      "cell_type": "code",
      "source": [
        "import pandas as pd\n",
        "df = pd.read_excel('hscode_description (1).xlsx', converters={'HSCODE':str}, usecols=['Hscode', \"Description to English\"])"
      ],
      "metadata": {
        "id": "wA3pTlpQW-qC"
      },
      "execution_count": null,
      "outputs": []
    },
    {
      "cell_type": "code",
      "source": [
        "df = df.dropna()"
      ],
      "metadata": {
        "id": "2BaqpqqnYXbm"
      },
      "execution_count": null,
      "outputs": []
    },
    {
      "cell_type": "code",
      "source": [
        "import re\n",
        "def pre_process(text):\n",
        "    text=text.lower()\n",
        "    text=re.sub(\"</?.*?>\",\" <> \",text)\n",
        "    text=re.sub(\"(\\\\d|\\\\W)+\",\" \",text)\n",
        "    return text"
      ],
      "metadata": {
        "id": "AMRLEph5ZMCj"
      },
      "execution_count": null,
      "outputs": []
    },
    {
      "cell_type": "code",
      "source": [
        "df.head()"
      ],
      "metadata": {
        "colab": {
          "base_uri": "https://localhost:8080/",
          "height": 206
        },
        "id": "DXSdgRh1aqB0",
        "outputId": "fdcbbdcd-2024-4e20-832b-1b2dbdfb2e90"
      },
      "execution_count": null,
      "outputs": [
        {
          "output_type": "execute_result",
          "data": {
            "text/plain": [
              "        Hscode                             Description to English\n",
              "0  19053100000  19053100000-SWEET BISCUITS WHETHER OR NOT CONT...\n",
              "1     42022220           40 Carton (10,000 Pcs) COTTON BAGS(DETAI\n",
              "2     30049099                     607077709237 PERSONAL MEDECINE\n",
              "3     84433990                         TM M30II 122 SMALL PRINTER\n",
              "4     92011000  Vertical Piano- PIANO TYPE: UPRIGHT, MAKER: YA..."
            ],
            "text/html": [
              "\n",
              "  <div id=\"df-d043d5dc-f5db-411a-8597-80d26000a990\">\n",
              "    <div class=\"colab-df-container\">\n",
              "      <div>\n",
              "<style scoped>\n",
              "    .dataframe tbody tr th:only-of-type {\n",
              "        vertical-align: middle;\n",
              "    }\n",
              "\n",
              "    .dataframe tbody tr th {\n",
              "        vertical-align: top;\n",
              "    }\n",
              "\n",
              "    .dataframe thead th {\n",
              "        text-align: right;\n",
              "    }\n",
              "</style>\n",
              "<table border=\"1\" class=\"dataframe\">\n",
              "  <thead>\n",
              "    <tr style=\"text-align: right;\">\n",
              "      <th></th>\n",
              "      <th>Hscode</th>\n",
              "      <th>Description to English</th>\n",
              "    </tr>\n",
              "  </thead>\n",
              "  <tbody>\n",
              "    <tr>\n",
              "      <th>0</th>\n",
              "      <td>19053100000</td>\n",
              "      <td>19053100000-SWEET BISCUITS WHETHER OR NOT CONT...</td>\n",
              "    </tr>\n",
              "    <tr>\n",
              "      <th>1</th>\n",
              "      <td>42022220</td>\n",
              "      <td>40 Carton (10,000 Pcs) COTTON BAGS(DETAI</td>\n",
              "    </tr>\n",
              "    <tr>\n",
              "      <th>2</th>\n",
              "      <td>30049099</td>\n",
              "      <td>607077709237 PERSONAL MEDECINE</td>\n",
              "    </tr>\n",
              "    <tr>\n",
              "      <th>3</th>\n",
              "      <td>84433990</td>\n",
              "      <td>TM M30II 122 SMALL PRINTER</td>\n",
              "    </tr>\n",
              "    <tr>\n",
              "      <th>4</th>\n",
              "      <td>92011000</td>\n",
              "      <td>Vertical Piano- PIANO TYPE: UPRIGHT, MAKER: YA...</td>\n",
              "    </tr>\n",
              "  </tbody>\n",
              "</table>\n",
              "</div>\n",
              "      <button class=\"colab-df-convert\" onclick=\"convertToInteractive('df-d043d5dc-f5db-411a-8597-80d26000a990')\"\n",
              "              title=\"Convert this dataframe to an interactive table.\"\n",
              "              style=\"display:none;\">\n",
              "        \n",
              "  <svg xmlns=\"http://www.w3.org/2000/svg\" height=\"24px\"viewBox=\"0 0 24 24\"\n",
              "       width=\"24px\">\n",
              "    <path d=\"M0 0h24v24H0V0z\" fill=\"none\"/>\n",
              "    <path d=\"M18.56 5.44l.94 2.06.94-2.06 2.06-.94-2.06-.94-.94-2.06-.94 2.06-2.06.94zm-11 1L8.5 8.5l.94-2.06 2.06-.94-2.06-.94L8.5 2.5l-.94 2.06-2.06.94zm10 10l.94 2.06.94-2.06 2.06-.94-2.06-.94-.94-2.06-.94 2.06-2.06.94z\"/><path d=\"M17.41 7.96l-1.37-1.37c-.4-.4-.92-.59-1.43-.59-.52 0-1.04.2-1.43.59L10.3 9.45l-7.72 7.72c-.78.78-.78 2.05 0 2.83L4 21.41c.39.39.9.59 1.41.59.51 0 1.02-.2 1.41-.59l7.78-7.78 2.81-2.81c.8-.78.8-2.07 0-2.86zM5.41 20L4 18.59l7.72-7.72 1.47 1.35L5.41 20z\"/>\n",
              "  </svg>\n",
              "      </button>\n",
              "      \n",
              "  <style>\n",
              "    .colab-df-container {\n",
              "      display:flex;\n",
              "      flex-wrap:wrap;\n",
              "      gap: 12px;\n",
              "    }\n",
              "\n",
              "    .colab-df-convert {\n",
              "      background-color: #E8F0FE;\n",
              "      border: none;\n",
              "      border-radius: 50%;\n",
              "      cursor: pointer;\n",
              "      display: none;\n",
              "      fill: #1967D2;\n",
              "      height: 32px;\n",
              "      padding: 0 0 0 0;\n",
              "      width: 32px;\n",
              "    }\n",
              "\n",
              "    .colab-df-convert:hover {\n",
              "      background-color: #E2EBFA;\n",
              "      box-shadow: 0px 1px 2px rgba(60, 64, 67, 0.3), 0px 1px 3px 1px rgba(60, 64, 67, 0.15);\n",
              "      fill: #174EA6;\n",
              "    }\n",
              "\n",
              "    [theme=dark] .colab-df-convert {\n",
              "      background-color: #3B4455;\n",
              "      fill: #D2E3FC;\n",
              "    }\n",
              "\n",
              "    [theme=dark] .colab-df-convert:hover {\n",
              "      background-color: #434B5C;\n",
              "      box-shadow: 0px 1px 3px 1px rgba(0, 0, 0, 0.15);\n",
              "      filter: drop-shadow(0px 1px 2px rgba(0, 0, 0, 0.3));\n",
              "      fill: #FFFFFF;\n",
              "    }\n",
              "  </style>\n",
              "\n",
              "      <script>\n",
              "        const buttonEl =\n",
              "          document.querySelector('#df-d043d5dc-f5db-411a-8597-80d26000a990 button.colab-df-convert');\n",
              "        buttonEl.style.display =\n",
              "          google.colab.kernel.accessAllowed ? 'block' : 'none';\n",
              "\n",
              "        async function convertToInteractive(key) {\n",
              "          const element = document.querySelector('#df-d043d5dc-f5db-411a-8597-80d26000a990');\n",
              "          const dataTable =\n",
              "            await google.colab.kernel.invokeFunction('convertToInteractive',\n",
              "                                                     [key], {});\n",
              "          if (!dataTable) return;\n",
              "\n",
              "          const docLinkHtml = 'Like what you see? Visit the ' +\n",
              "            '<a target=\"_blank\" href=https://colab.research.google.com/notebooks/data_table.ipynb>data table notebook</a>'\n",
              "            + ' to learn more about interactive tables.';\n",
              "          element.innerHTML = '';\n",
              "          dataTable['output_type'] = 'display_data';\n",
              "          await google.colab.output.renderOutput(dataTable, element);\n",
              "          const docLink = document.createElement('div');\n",
              "          docLink.innerHTML = docLinkHtml;\n",
              "          element.appendChild(docLink);\n",
              "        }\n",
              "      </script>\n",
              "    </div>\n",
              "  </div>\n",
              "  "
            ]
          },
          "metadata": {},
          "execution_count": 89
        }
      ]
    },
    {
      "cell_type": "code",
      "source": [
        "df['Description to English'] = df['Description to English'].apply(lambda x: pre_process(x))"
      ],
      "metadata": {
        "id": "8GIGoIWhdy7C"
      },
      "execution_count": null,
      "outputs": []
    },
    {
      "cell_type": "code",
      "source": [
        "bloblist = [tb(i) for i in df['Description to English'].to_list()]"
      ],
      "metadata": {
        "id": "XwlsKxpKYe7i"
      },
      "execution_count": null,
      "outputs": []
    },
    {
      "cell_type": "code",
      "source": [
        "lst = []"
      ],
      "metadata": {
        "id": "mPQykQtgjS1G"
      },
      "execution_count": null,
      "outputs": []
    },
    {
      "cell_type": "code",
      "source": [
        "for i, blob in enumerate(bloblist):\n",
        "    l = [blob]\n",
        "    print(\"Top words in document {}\".format(i + 1))\n",
        "    scores = {word: tfidf(word, blob, bloblist) for word in blob.words}\n",
        "    sorted_words = sorted(scores.items(), key=lambda x: x[1], reverse=True)\n",
        "    try:\n",
        "        for word, score in sorted_words[:5]:\n",
        "            x = \"\\tWord: {}, TF-IDF: {}\".format(word, round(score, 5))\n",
        "            l.append(x)\n",
        "            print(x)\n",
        "        lst.append(l)\n",
        "    except:\n",
        "        continue\n",
        "    break"
      ],
      "metadata": {
        "colab": {
          "base_uri": "https://localhost:8080/"
        },
        "id": "jKQm_mgzaPOT",
        "outputId": "0504358b-a58c-4011-be02-d00e4d080c03"
      },
      "execution_count": null,
      "outputs": [
        {
          "output_type": "stream",
          "name": "stdout",
          "text": [
            "Top words in document 1\n",
            "\tWord: biscuits, TF-IDF: 1.52881\n",
            "\tWord: sweet, TF-IDF: 1.02219\n",
            "\tWord: containg, TF-IDF: 0.91997\n",
            "\tWord: cocoa, TF-IDF: 0.69609\n",
            "\tWord: whether, TF-IDF: 0.67179\n"
          ]
        }
      ]
    },
    {
      "cell_type": "markdown",
      "source": [
        "## Writing to a CSV File"
      ],
      "metadata": {
        "id": "2DAUmZQ12PK_"
      }
    },
    {
      "cell_type": "code",
      "source": [
        "import csv\n",
        "with open('result.csv', 'w') as f:\n",
        "    write = csv.writer(f)\n",
        "    write.writerows(lst)"
      ],
      "metadata": {
        "id": "9rmBzM06vjBb"
      },
      "execution_count": null,
      "outputs": []
    },
    {
      "cell_type": "code",
      "source": [
        "def get_keywords(txt):\n",
        "    global bloblist\n",
        "    txt = tb(pre_process(txt))\n",
        "    nouns = [n for n,t in txt.tags if t in ['NN', 'NNS','NNP','NNPS','JJ']]\n",
        "    scores = {word: tfidf(word, txt, bloblist) for word in txt.words if word}\n",
        "    noun_scores = {n:scores[n] for n in nouns}\n",
        "    sorted_words = sorted(noun_scores.items(), key=lambda x: x[1], reverse=True)\n",
        "    return sorted_words[:5]\n",
        "\n"
      ],
      "metadata": {
        "id": "eh4VJCAS1pmD"
      },
      "execution_count": null,
      "outputs": []
    },
    {
      "cell_type": "code",
      "source": [
        "txt = \" other woven fabrics containing polyester fibres cotton weight g m other woven fabrics containing polyester fibres cotton weight g m textile material\"\n",
        "get_keywords(txt)"
      ],
      "metadata": {
        "colab": {
          "base_uri": "https://localhost:8080/"
        },
        "id": "2VxEnJZlxDu-",
        "outputId": "40938c63-509f-4e8e-cd6f-c650c9fd7fed"
      },
      "execution_count": null,
      "outputs": [
        {
          "output_type": "stream",
          "name": "stdout",
          "text": [
            "[('other', 'JJ'), ('woven', 'JJ'), ('fabrics', 'NNS'), ('containing', 'VBG'), ('polyester', 'NN'), ('fibres', 'NNS'), ('cotton', 'NN'), ('weight', 'VBD'), ('g', 'NNS'), ('m', 'FW'), ('other', 'JJ'), ('woven', 'JJ'), ('fabrics', 'NNS'), ('containing', 'VBG'), ('polyester', 'NN'), ('fibres', 'NNS'), ('cotton', 'NN'), ('weight', 'VBD'), ('g', 'JJ'), ('m', 'NN'), ('textile', 'NN'), ('material', 'NN')]\n"
          ]
        },
        {
          "output_type": "execute_result",
          "data": {
            "text/plain": [
              "[('fibres', 0.6074055182707181),\n",
              " ('fabrics', 0.39486834974122226),\n",
              " ('polyester', 0.39224438837273734),\n",
              " ('woven', 0.3678567532277665),\n",
              " ('m', 0.35573585123799695)]"
            ]
          },
          "metadata": {},
          "execution_count": 121
        }
      ]
    }
  ]
}